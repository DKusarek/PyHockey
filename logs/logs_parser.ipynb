{
 "cells": [
  {
   "cell_type": "code",
   "execution_count": null,
   "metadata": {
    "collapsed": false
   },
   "outputs": [],
   "source": [
    "import plotly.plotly as py\n",
    "import plotly.graph_objs as go\n",
    "krotka = open(\"players_scores.csv\").readlines()\n",
    "a = int(krotka[0])\n",
    "b = int(krotka[1])\n",
    "\n",
    "labels = ['Player 1', 'Player 2']\n",
    "values = [a, b]\n",
    "trace = go.Pie(labels=labels, values=values)\n",
    "py.iplot([trace], filename='points_scored_by_players_on_pieChart')"
   ]
  },
  {
   "cell_type": "code",
   "execution_count": null,
   "metadata": {},
   "outputs": [],
   "source": [
    "data = [go.Bar(\n",
    "            x=['Player 1', 'Player 2'],\n",
    "            y=[a, b]\n",
    "    )]\n",
    "py.iplot(data, filename='points_scored_by_players_on_bar')"
   ]
  },
  {
   "cell_type": "code",
   "execution_count": null,
   "metadata": {},
   "outputs": [],
   "source": [
    "from plotly.graph_objs import *\n",
    "import plotly.plotly as py\n",
    "lista = open(\"timeline.csv\").readlines()\n",
    "#print(lista)\n",
    "hours = 0\n",
    "minutes = int(lista[0])\n",
    "seconds = int(lista[1])\n",
    "miliseconds = int(lista[2])\n",
    "timeline_charts = {\n",
    "    'data': [\n",
    "        {\n",
    "            'labels': ['hours of game', 'full day'],\n",
    "            'values': [hours, 24],\n",
    "            'type': 'pie',\n",
    "            'name': 'Game as % of day',\n",
    "            'marker': {'colors': ['rgb(56, 75, 126)',\n",
    "                                  'rgb(240, 240, 240)']},\n",
    "            'domain': {'x': [0, .48],\n",
    "                       'y': [0, .49]},\n",
    "            'hoverinfo':'label+percent+name',\n",
    "            'textinfo':'none'\n",
    "        },\n",
    "        {\n",
    "            'labels': ['minutes', 'full hour'],\n",
    "            'values': [minutes, 60],\n",
    "            'marker': {'colors': ['rgb(253, 3, 0)',\n",
    "                                  'rgb(240, 240, 240)']},\n",
    "            'type': 'pie',\n",
    "            'name': 'Game as % of hour',\n",
    "            'domain': {'x': [.52, 1],\n",
    "                       'y': [0, .49]},\n",
    "            'hoverinfo':'label+percent+name',\n",
    "            'textinfo':'none'\n",
    "\n",
    "        },\n",
    "        {\n",
    "            'labels': ['seconds', 'full minute'],\n",
    "            'values': [seconds, 60],\n",
    "            'marker': {'colors': ['rgb(255, 193, 37)',\n",
    "                                  'rgb(240, 240, 240)']},\n",
    "            'type': 'pie',\n",
    "            'name': 'Game as % of minute',\n",
    "            'domain': {'x': [0, .48],\n",
    "                       'y': [.51, 1]},\n",
    "            'hoverinfo':'label+percent+name',\n",
    "            'textinfo':'none'\n",
    "        },\n",
    "        {\n",
    "            'labels': ['miliseconds', 'full second'],\n",
    "            'values': [miliseconds, 60],\n",
    "            'marker': {'colors': ['rgb(51, 204, 102)',\n",
    "                                  'rgb(240, 240, 240)']},\n",
    "            'type': 'pie',\n",
    "            'name':'Game as % of secoond',\n",
    "            'domain': {'x': [.52, 1],\n",
    "                       'y': [.51, 1]},\n",
    "            'hoverinfo':'label+percent+name',\n",
    "            'textinfo':'none'\n",
    "        }\n",
    "    ],\n",
    "    'layout': {'title': 'Game time shown as percentage of full hour, minute and second',\n",
    "               'showlegend': False}\n",
    "}\n",
    "\n",
    "py.iplot(timeline_charts, filename='game_time_charts')"
   ]
  }
 ],
 "metadata": {
  "kernelspec": {
   "display_name": "Python 2",
   "language": "python",
   "name": "python2"
  },
  "language_info": {
   "codemirror_mode": {
    "name": "ipython",
    "version": 2.0
   },
   "file_extension": ".py",
   "mimetype": "text/x-python",
   "name": "python",
   "nbconvert_exporter": "python",
   "pygments_lexer": "ipython2",
   "version": "2.7.6"
  }
 },
 "nbformat": 4,
 "nbformat_minor": 0
}